{
 "cells": [
  {
   "cell_type": "markdown",
   "id": "75012b72",
   "metadata": {},
   "source": [
    "# Github에는 tr_filter 폴더가 없음"
   ]
  },
  {
   "cell_type": "code",
   "execution_count": 1,
   "id": "ba3c0264",
   "metadata": {},
   "outputs": [],
   "source": [
    "import json\n",
    "import re\n",
    "\n",
    "from layer2.tr_filter.rules import account_auth, amt_in_out, card_income, card_vendor_name, ef_name, finance_name, \\\n",
    "    finance_code, human_name, openbanking_name, finance_code_transfer, toss_transfer, life_ens, fire_ins\n",
    "\n",
    "from layer2.tr_filter import rule_types"
   ]
  },
  {
   "cell_type": "markdown",
   "id": "fb9ce412",
   "metadata": {},
   "source": [
    "## 질문 사항 1\n",
    "\n",
    " 저희는 DB에서 api로 직접 불러올 수 없는데, 테스트할때 아래 샘플 데이터로 사용하면 되는지?\n",
    "\n",
    " -> DB에서 불러온 데이터와 같은 형태인지? ( 샘플 데이터는 Data Frame 형태 )"
   ]
  },
  {
   "cell_type": "code",
   "execution_count": 2,
   "id": "4d6518c8",
   "metadata": {},
   "outputs": [
    {
     "data": {
      "text/plain": [
       "\"\\n\\n if __name__ == '__main__':\\n    from layer2.db_api import crud\\n    trs = crud.query_items('transaction', [])\\n    results = []\\n    for idx, tr in enumerate(trs):\\n        conditions = get_trx_type(tr, '')\\n        results.append({\\n            'name': tr['name'],\\n            'outbound': tr['outbound'],\\n            'inbound': tr['inbound'],\\n            'conditions': conditions,\\n        })\\n        if idx == 10000:\\n            break\\n\\n    with open('results.json', 'w+') as fp:\\n        json.dump(results, fp)\\n        \\n\""
      ]
     },
     "execution_count": 2,
     "metadata": {},
     "output_type": "execute_result"
    }
   ],
   "source": [
    "# main.py 코드 내용\n",
    "# db 접속 권한 X\n",
    "\n",
    "\"\"\"\n",
    "\n",
    " if __name__ == '__main__':\n",
    "    from layer2.db_api import crud\n",
    "    trs = crud.query_items('transaction', [])\n",
    "    results = []\n",
    "    for idx, tr in enumerate(trs):\n",
    "        conditions = get_trx_type(tr, '')\n",
    "        results.append({\n",
    "            'name': tr['name'],\n",
    "            'outbound': tr['outbound'],\n",
    "            'inbound': tr['inbound'],\n",
    "            'conditions': conditions,\n",
    "        })\n",
    "        if idx == 10000:\n",
    "            break\n",
    "\n",
    "    with open('results.json', 'w+') as fp:\n",
    "        json.dump(results, fp)\n",
    "        \n",
    "\"\"\""
   ]
  },
  {
   "cell_type": "code",
   "execution_count": 3,
   "id": "c7cc0d64",
   "metadata": {},
   "outputs": [],
   "source": [
    "import pandas as pd\n",
    "import numpy as np\n",
    "\n",
    "df_trs= pd.read_csv(\"C:/Users/Museong Park/Whatssub/Data/sample_221228.csv\")"
   ]
  },
  {
   "cell_type": "code",
   "execution_count": 4,
   "id": "18b09bc0",
   "metadata": {},
   "outputs": [],
   "source": [
    "trs=df_trs.to_dict('records')"
   ]
  },
  {
   "cell_type": "code",
   "execution_count": 5,
   "id": "dafba5ca",
   "metadata": {},
   "outputs": [],
   "source": [
    "korean_4 = re.compile('[가-힣]{4}')\n",
    "number_5gt = re.compile('^\\d{4}\\d+$')\n",
    "yello_umb = re.compile('^노란\\d{3}$')"
   ]
  },
  {
   "cell_type": "code",
   "execution_count": 6,
   "id": "9a789c10",
   "metadata": {},
   "outputs": [],
   "source": [
    "def _make_return(tr_type, target_name=None, target_type=None, target_biz_name=None, target_biz_type=None,\n",
    "                 target_account_vendor=None, tr_channel=None, tr_target_channel=None):\n",
    "    \"\"\"\n",
    "    :param tr_type: 이체유형\n",
    "    :param target_name: 이체 상대명\n",
    "    :param target_type: 이체 상대 분류\n",
    "    :param target_biz_name: 이체 상대 사업자명\n",
    "    :param target_biz_type: 이체 상대 사업자 분류\n",
    "    :param target_account_vendor: 이체 상대 계좌 벤더\n",
    "    :param tr_channel: 이체 매체\n",
    "    :param tr_target_channel: 이체 상대 매체\n",
    "    :return:\n",
    "    \"\"\"\n",
    "    return {\n",
    "        'tr_type': tr_type,\n",
    "        'target_name': target_name,\n",
    "        'target_type': target_type,\n",
    "        'target_biz_name': target_biz_name,\n",
    "        'target_biz_type': target_biz_type,\n",
    "        'target_account_vendor': target_account_vendor,\n",
    "        'tr_channel': tr_channel,\n",
    "        'tr_target_channel': tr_target_channel,\n",
    "    }"
   ]
  },
  {
   "cell_type": "code",
   "execution_count": 19,
   "id": "ce0bcff3",
   "metadata": {},
   "outputs": [],
   "source": [
    "def get_trx_type(transaction, user_name):\n",
    "    \"\"\"\n",
    "    결제 내역이 어떤 이체 타입인지 확인합니다.\n",
    "    :param transaction: {\n",
    "        name, outbound, inbound\n",
    "    }\n",
    "    :param user_name: 사용자의 이름\n",
    "    :return:\n",
    "    \"\"\"\n",
    "    candidates = []  # 후보 목록\n",
    "    # transaction 이 어떤 trx 타입인지 확인합니다.\n",
    "    name = transaction['name']\n",
    "    outbound = transaction['outbound']\n",
    "    inbound = transaction['inbound']\n",
    "    vendor_type = transaction['vendor_type']\n",
    "\n",
    "    if not name:\n",
    "        return [\"\"]\n",
    "   \n",
    "    # \"토스\" 포함 여부\n",
    "    if outbound > 0 and regex.search(str(name)) :\n",
    "    # 적요에 '토스'가 포함될 경우 이체 타입을 salary로 지정 ( just for test )    \n",
    "        candidates.append(_make_return(rule_types.sponsorship))\n",
    "\n",
    "    return candidates"
   ]
  },
  {
   "cell_type": "code",
   "execution_count": 20,
   "id": "6083f010",
   "metadata": {},
   "outputs": [],
   "source": [
    "a=[{'currency': 'KRW',\n",
    "  'inbound': 0.0,\n",
    "  'status': 'normal',\n",
    "  'balance_after_transaction': 715123.0,\n",
    "  'name': '후원_비자',\n",
    "  'memo': '비즈니스',\n",
    "  'payment_date': 1659475420.0,\n",
    "  'creation_date': 1661492789.5154078,\n",
    "  'outbound': 22000.0,\n",
    "  'names': \"['연동비자성', '카카오페이', '비즈니스']\",\n",
    "  'store_approval_number': np.nan,\n",
    "  'vendor_type': 'bank',\n",
    "  'source': 'open_banking',\n",
    "  'summary': '카카오페이'},\n",
    "{'currency': 'KRW',\n",
    "  'inbound': 0.0,\n",
    "  'status': 'normal',\n",
    "  'balance_after_transaction': 715123.0,\n",
    "  'name': '유니세프_후원금',\n",
    "  'memo': '비즈니스',\n",
    "  'payment_date': 1659475420.0,\n",
    "  'creation_date': 1661492789.5154078,\n",
    "  'outbound': 22000.0,\n",
    "  'names': \"['연동비자성', '카카오페이', '비즈니스']\",\n",
    "  'store_approval_number': np.nan,\n",
    "  'vendor_type': 'bank',\n",
    "  'source': 'open_banking',\n",
    "  'summary': '카카오페이'},\n",
    "{'currency': 'KRW',\n",
    "  'inbound': 0.0,\n",
    "  'status': 'normal',\n",
    "  'balance_after_transaction': 715123.0,\n",
    "  'name': '아동 후원금',\n",
    "  'memo': '비즈니스',\n",
    "  'payment_date': 1659475420.0,\n",
    "  'creation_date': 1661492789.5154078,\n",
    "  'outbound': 22000.0,\n",
    "  'names': \"['연동비자성', '카카오페이', '비즈니스']\",\n",
    "  'store_approval_number': np.nan,\n",
    "  'vendor_type': 'bank',\n",
    "  'source': 'open_banking',\n",
    "  'summary': '카카오페이'}]"
   ]
  },
  {
   "cell_type": "code",
   "execution_count": 21,
   "id": "3343586d",
   "metadata": {},
   "outputs": [],
   "source": [
    "b= a + trs"
   ]
  },
  {
   "cell_type": "code",
   "execution_count": 22,
   "id": "f1ee8ee5",
   "metadata": {},
   "outputs": [],
   "source": [
    "import re\n",
    "regex = re.compile('후원금+')"
   ]
  },
  {
   "cell_type": "code",
   "execution_count": 23,
   "id": "5e6f6995",
   "metadata": {},
   "outputs": [],
   "source": [
    "results = []\n",
    "for idx, tr in enumerate(b):\n",
    "        conditions = get_trx_type(tr, '')\n",
    "        results.append({\n",
    "            'name': tr['name'],\n",
    "            'outbound': tr['outbound'],\n",
    "            'inbound': tr['inbound'],\n",
    "            'conditions': conditions,\n",
    "        })\n",
    "        if idx == 10002:\n",
    "            break"
   ]
  },
  {
   "cell_type": "code",
   "execution_count": 24,
   "id": "5ec54308",
   "metadata": {},
   "outputs": [],
   "source": [
    "result_list=[]\n",
    "\n",
    "for j in results:\n",
    "    if j.get('conditions') != []:\n",
    "        result_list.append(j)"
   ]
  },
  {
   "cell_type": "code",
   "execution_count": 25,
   "id": "2777be67",
   "metadata": {},
   "outputs": [
    {
     "data": {
      "text/plain": [
       "[{'name': '유니세프_후원금',\n",
       "  'outbound': 22000.0,\n",
       "  'inbound': 0.0,\n",
       "  'conditions': [{'tr_type': 'sponsorship',\n",
       "    'target_name': None,\n",
       "    'target_type': None,\n",
       "    'target_biz_name': None,\n",
       "    'target_biz_type': None,\n",
       "    'target_account_vendor': None,\n",
       "    'tr_channel': None,\n",
       "    'tr_target_channel': None}]},\n",
       " {'name': '아동 후원금',\n",
       "  'outbound': 22000.0,\n",
       "  'inbound': 0.0,\n",
       "  'conditions': [{'tr_type': 'sponsorship',\n",
       "    'target_name': None,\n",
       "    'target_type': None,\n",
       "    'target_biz_name': None,\n",
       "    'target_biz_type': None,\n",
       "    'target_account_vendor': None,\n",
       "    'tr_channel': None,\n",
       "    'tr_target_channel': None}]},\n",
       " {'name': '후원금(구)_1',\n",
       "  'outbound': 20000.0,\n",
       "  'inbound': 0.0,\n",
       "  'conditions': [{'tr_type': 'sponsorship',\n",
       "    'target_name': None,\n",
       "    'target_type': None,\n",
       "    'target_biz_name': None,\n",
       "    'target_biz_type': None,\n",
       "    'target_account_vendor': None,\n",
       "    'tr_channel': None,\n",
       "    'tr_target_channel': None}]},\n",
       " {'name': '후원금이니시스 - ( 주 ) 참언론',\n",
       "  'outbound': 100000.0,\n",
       "  'inbound': 0.0,\n",
       "  'conditions': [{'tr_type': 'sponsorship',\n",
       "    'target_name': None,\n",
       "    'target_type': None,\n",
       "    'target_biz_name': None,\n",
       "    'target_biz_type': None,\n",
       "    'target_account_vendor': None,\n",
       "    'tr_channel': None,\n",
       "    'tr_target_channel': None}]}]"
      ]
     },
     "execution_count": 25,
     "metadata": {},
     "output_type": "execute_result"
    }
   ],
   "source": [
    "result_list"
   ]
  }
 ],
 "metadata": {
  "kernelspec": {
   "display_name": "Python 3 (ipykernel)",
   "language": "python",
   "name": "python3"
  },
  "language_info": {
   "codemirror_mode": {
    "name": "ipython",
    "version": 3
   },
   "file_extension": ".py",
   "mimetype": "text/x-python",
   "name": "python",
   "nbconvert_exporter": "python",
   "pygments_lexer": "ipython3",
   "version": "3.9.12"
  }
 },
 "nbformat": 4,
 "nbformat_minor": 5
}
